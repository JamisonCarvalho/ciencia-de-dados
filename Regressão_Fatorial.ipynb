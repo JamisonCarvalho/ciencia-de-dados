{
  "nbformat": 4,
  "nbformat_minor": 0,
  "metadata": {
    "colab": {
      "provenance": [],
      "authorship_tag": "ABX9TyOOZIrg+klZymy8/zcNHhsU",
      "include_colab_link": true
    },
    "kernelspec": {
      "name": "python3",
      "display_name": "Python 3"
    },
    "language_info": {
      "name": "python"
    }
  },
  "cells": [
    {
      "cell_type": "markdown",
      "metadata": {
        "id": "view-in-github",
        "colab_type": "text"
      },
      "source": [
        "<a href=\"https://colab.research.google.com/github/JamisonCarvalho/ciencia-de-dados/blob/main/Regress%C3%A3o_Fatorial.ipynb\" target=\"_parent\"><img src=\"https://colab.research.google.com/assets/colab-badge.svg\" alt=\"Open In Colab\"/></a>"
      ]
    },
    {
      "cell_type": "markdown",
      "source": [
        "# Regressão Fatorial"
      ],
      "metadata": {
        "id": "7Rb-3_Duf9r7"
      }
    },
    {
      "cell_type": "code",
      "source": [
        "import numpy as np\n",
        "import statsmodels.api as sm\n"
      ],
      "metadata": {
        "id": "YjUOhBEsgA0l"
      },
      "execution_count": 1,
      "outputs": []
    },
    {
      "cell_type": "code",
      "source": [
        "x1 = np.random.normal(size=100)\n",
        "x2 = np.random.normal(size=100)\n",
        "x3 = np.random.normal(size=100)\n",
        "y = 2+3*x1+4*x2+5*x3+np.random.normal(size=100)\n",
        "\n",
        "X = sm.add_constant(np.column_stack((x1,\n",
        "                                     x2,\n",
        "                                     x3,\n",
        "                                     x1*x2,\n",
        "                                     x1*x3,\n",
        "                                     x2*x3,\n",
        "                                     x1*x2*x3)))\n",
        "\n",
        "modelo = sm.OLS(y, X).fit()\n",
        "\n",
        "print(modelo.summary())"
      ],
      "metadata": {
        "colab": {
          "base_uri": "https://localhost:8080/"
        },
        "id": "4kg5gXJFgJ0X",
        "outputId": "16ca3361-b1f1-4890-f67e-e63e9c0d18ea"
      },
      "execution_count": 5,
      "outputs": [
        {
          "output_type": "stream",
          "name": "stdout",
          "text": [
            "                            OLS Regression Results                            \n",
            "==============================================================================\n",
            "Dep. Variable:                      y   R-squared:                       0.980\n",
            "Model:                            OLS   Adj. R-squared:                  0.979\n",
            "Method:                 Least Squares   F-statistic:                     658.4\n",
            "Date:                Tue, 19 Nov 2024   Prob (F-statistic):           1.17e-75\n",
            "Time:                        22:23:18   Log-Likelihood:                -140.81\n",
            "No. Observations:                 100   AIC:                             297.6\n",
            "Df Residuals:                      92   BIC:                             318.5\n",
            "Df Model:                           7                                         \n",
            "Covariance Type:            nonrobust                                         \n",
            "==============================================================================\n",
            "                 coef    std err          t      P>|t|      [0.025      0.975]\n",
            "------------------------------------------------------------------------------\n",
            "const          2.0378      0.105     19.391      0.000       1.829       2.247\n",
            "x1             2.9734      0.108     27.613      0.000       2.760       3.187\n",
            "x2             4.0568      0.102     39.811      0.000       3.854       4.259\n",
            "x3             4.9750      0.119     41.762      0.000       4.738       5.212\n",
            "x4             0.0131      0.116      0.113      0.910      -0.217       0.243\n",
            "x5             0.3016      0.103      2.924      0.004       0.097       0.506\n",
            "x6            -0.1085      0.127     -0.854      0.395      -0.361       0.144\n",
            "x7            -0.1033      0.128     -0.807      0.422      -0.357       0.151\n",
            "==============================================================================\n",
            "Omnibus:                        1.098   Durbin-Watson:                   1.976\n",
            "Prob(Omnibus):                  0.578   Jarque-Bera (JB):                0.612\n",
            "Skew:                           0.119   Prob(JB):                        0.736\n",
            "Kurtosis:                       3.300   Cond. No.                         1.72\n",
            "==============================================================================\n",
            "\n",
            "Notes:\n",
            "[1] Standard Errors assume that the covariance matrix of the errors is correctly specified.\n"
          ]
        }
      ]
    }
  ]
}