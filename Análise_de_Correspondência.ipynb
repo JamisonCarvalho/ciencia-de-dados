{
  "nbformat": 4,
  "nbformat_minor": 0,
  "metadata": {
    "colab": {
      "provenance": [],
      "authorship_tag": "ABX9TyM6Ye/jDx9RAv3o0vCyljz+",
      "include_colab_link": true
    },
    "kernelspec": {
      "name": "python3",
      "display_name": "Python 3"
    },
    "language_info": {
      "name": "python"
    }
  },
  "cells": [
    {
      "cell_type": "markdown",
      "metadata": {
        "id": "view-in-github",
        "colab_type": "text"
      },
      "source": [
        "<a href=\"https://colab.research.google.com/github/JamisonCarvalho/ciencia-de-dados/blob/main/An%C3%A1lise_de_Correspond%C3%AAncia.ipynb\" target=\"_parent\"><img src=\"https://colab.research.google.com/assets/colab-badge.svg\" alt=\"Open In Colab\"/></a>"
      ]
    },
    {
      "cell_type": "code",
      "execution_count": null,
      "metadata": {
        "id": "1FAaIrJun_GM"
      },
      "outputs": [],
      "source": []
    },
    {
      "cell_type": "markdown",
      "source": [
        "# Análise de Correspondência"
      ],
      "metadata": {
        "id": "cR1T8R0ooEBj"
      }
    },
    {
      "cell_type": "code",
      "source": [
        "!pip install prince\n"
      ],
      "metadata": {
        "colab": {
          "base_uri": "https://localhost:8080/"
        },
        "id": "ob9v1ty9oGNo",
        "outputId": "4c666284-a7d9-433d-c47a-a52e0400d7ec"
      },
      "execution_count": 1,
      "outputs": [
        {
          "output_type": "stream",
          "name": "stdout",
          "text": [
            "Collecting prince\n",
            "  Downloading prince-0.13.1-py3-none-any.whl.metadata (639 bytes)\n",
            "Requirement already satisfied: altair<6.0.0,>=4.2.2 in /usr/local/lib/python3.10/dist-packages (from prince) (4.2.2)\n",
            "Requirement already satisfied: pandas<3.0.0,>=1.4.1 in /usr/local/lib/python3.10/dist-packages (from prince) (2.2.2)\n",
            "Requirement already satisfied: scikit-learn<2.0.0,>=1.0.2 in /usr/local/lib/python3.10/dist-packages (from prince) (1.5.2)\n",
            "Requirement already satisfied: entrypoints in /usr/local/lib/python3.10/dist-packages (from altair<6.0.0,>=4.2.2->prince) (0.4)\n",
            "Requirement already satisfied: jinja2 in /usr/local/lib/python3.10/dist-packages (from altair<6.0.0,>=4.2.2->prince) (3.1.4)\n",
            "Requirement already satisfied: jsonschema>=3.0 in /usr/local/lib/python3.10/dist-packages (from altair<6.0.0,>=4.2.2->prince) (4.23.0)\n",
            "Requirement already satisfied: numpy in /usr/local/lib/python3.10/dist-packages (from altair<6.0.0,>=4.2.2->prince) (1.26.4)\n",
            "Requirement already satisfied: toolz in /usr/local/lib/python3.10/dist-packages (from altair<6.0.0,>=4.2.2->prince) (0.12.1)\n",
            "Requirement already satisfied: python-dateutil>=2.8.2 in /usr/local/lib/python3.10/dist-packages (from pandas<3.0.0,>=1.4.1->prince) (2.8.2)\n",
            "Requirement already satisfied: pytz>=2020.1 in /usr/local/lib/python3.10/dist-packages (from pandas<3.0.0,>=1.4.1->prince) (2024.2)\n",
            "Requirement already satisfied: tzdata>=2022.7 in /usr/local/lib/python3.10/dist-packages (from pandas<3.0.0,>=1.4.1->prince) (2024.2)\n",
            "Requirement already satisfied: scipy>=1.6.0 in /usr/local/lib/python3.10/dist-packages (from scikit-learn<2.0.0,>=1.0.2->prince) (1.13.1)\n",
            "Requirement already satisfied: joblib>=1.2.0 in /usr/local/lib/python3.10/dist-packages (from scikit-learn<2.0.0,>=1.0.2->prince) (1.4.2)\n",
            "Requirement already satisfied: threadpoolctl>=3.1.0 in /usr/local/lib/python3.10/dist-packages (from scikit-learn<2.0.0,>=1.0.2->prince) (3.5.0)\n",
            "Requirement already satisfied: attrs>=22.2.0 in /usr/local/lib/python3.10/dist-packages (from jsonschema>=3.0->altair<6.0.0,>=4.2.2->prince) (24.2.0)\n",
            "Requirement already satisfied: jsonschema-specifications>=2023.03.6 in /usr/local/lib/python3.10/dist-packages (from jsonschema>=3.0->altair<6.0.0,>=4.2.2->prince) (2024.10.1)\n",
            "Requirement already satisfied: referencing>=0.28.4 in /usr/local/lib/python3.10/dist-packages (from jsonschema>=3.0->altair<6.0.0,>=4.2.2->prince) (0.35.1)\n",
            "Requirement already satisfied: rpds-py>=0.7.1 in /usr/local/lib/python3.10/dist-packages (from jsonschema>=3.0->altair<6.0.0,>=4.2.2->prince) (0.20.0)\n",
            "Requirement already satisfied: six>=1.5 in /usr/local/lib/python3.10/dist-packages (from python-dateutil>=2.8.2->pandas<3.0.0,>=1.4.1->prince) (1.16.0)\n",
            "Requirement already satisfied: MarkupSafe>=2.0 in /usr/local/lib/python3.10/dist-packages (from jinja2->altair<6.0.0,>=4.2.2->prince) (3.0.2)\n",
            "Downloading prince-0.13.1-py3-none-any.whl (415 kB)\n",
            "\u001b[2K   \u001b[90m━━━━━━━━━━━━━━━━━━━━━━━━━━━━━━━━━━━━━━━━\u001b[0m \u001b[32m415.8/415.8 kB\u001b[0m \u001b[31m6.8 MB/s\u001b[0m eta \u001b[36m0:00:00\u001b[0m\n",
            "\u001b[?25hInstalling collected packages: prince\n",
            "Successfully installed prince-0.13.1\n"
          ]
        }
      ]
    },
    {
      "cell_type": "code",
      "source": [
        "import pandas as pd\n",
        "import prince\n",
        "import matplotlib.pyplot as plt\n",
        "\n",
        "dados = pd.read_csv('https://archive.ics.uci.edu/ml/machine-learning-databases/balloons/adult+stretch.data')\n",
        "dados.columns = ['Color', 'Size', 'Action', 'Age', 'Inflated']\n",
        "print(dados.head(10))\n"
      ],
      "metadata": {
        "colab": {
          "base_uri": "https://localhost:8080/"
        },
        "id": "nDGJ8V-4olK6",
        "outputId": "c8f081fa-0fc9-4af1-f2d8-26fcc8e77de3"
      },
      "execution_count": 5,
      "outputs": [
        {
          "output_type": "stream",
          "name": "stdout",
          "text": [
            "    Color   Size   Action    Age Inflated\n",
            "0  YELLOW  SMALL  STRETCH  ADULT        T\n",
            "1  YELLOW  SMALL  STRETCH  CHILD        F\n",
            "2  YELLOW  SMALL      DIP  ADULT        F\n",
            "3  YELLOW  SMALL      DIP  CHILD        F\n",
            "4  YELLOW  LARGE  STRETCH  ADULT        T\n",
            "5  YELLOW  LARGE  STRETCH  ADULT        T\n",
            "6  YELLOW  LARGE  STRETCH  CHILD        F\n",
            "7  YELLOW  LARGE      DIP  ADULT        F\n",
            "8  YELLOW  LARGE      DIP  CHILD        F\n",
            "9  PURPLE  SMALL  STRETCH  ADULT        T\n"
          ]
        }
      ]
    },
    {
      "cell_type": "markdown",
      "source": [
        "## Realizar a Análise de COrrespondência"
      ],
      "metadata": {
        "id": "tgvm0PeHpsWx"
      }
    },
    {
      "cell_type": "code",
      "source": [
        "m_analise_correspondencia = prince.MCA(n_components = 2)\n",
        "m_analise_correspondencia = m_analise_correspondencia.fit(dados)\n",
        "\n",
        "m_analise_correspondencia.plot(dados)\n"
      ],
      "metadata": {
        "colab": {
          "base_uri": "https://localhost:8080/",
          "height": 562
        },
        "id": "918NftrXprRM",
        "outputId": "db9128bf-3101-44f8-f7d9-d98b53a8f122"
      },
      "execution_count": 8,
      "outputs": [
        {
          "output_type": "stream",
          "name": "stderr",
          "text": [
            "/usr/local/lib/python3.10/dist-packages/altair/utils/core.py:384: FutureWarning: the convert_dtype parameter is deprecated and will be removed in a future version.  Do ``ser.astype(object).apply()`` instead if you want ``convert_dtype=False``.\n",
            "  col = df[col_name].apply(to_list_if_array, convert_dtype=False)\n",
            "/usr/local/lib/python3.10/dist-packages/altair/utils/core.py:384: FutureWarning: the convert_dtype parameter is deprecated and will be removed in a future version.  Do ``ser.astype(object).apply()`` instead if you want ``convert_dtype=False``.\n",
            "  col = df[col_name].apply(to_list_if_array, convert_dtype=False)\n",
            "/usr/local/lib/python3.10/dist-packages/altair/utils/core.py:384: FutureWarning: the convert_dtype parameter is deprecated and will be removed in a future version.  Do ``ser.astype(object).apply()`` instead if you want ``convert_dtype=False``.\n",
            "  col = df[col_name].apply(to_list_if_array, convert_dtype=False)\n",
            "/usr/local/lib/python3.10/dist-packages/altair/utils/core.py:384: FutureWarning: the convert_dtype parameter is deprecated and will be removed in a future version.  Do ``ser.astype(object).apply()`` instead if you want ``convert_dtype=False``.\n",
            "  col = df[col_name].apply(to_list_if_array, convert_dtype=False)\n",
            "/usr/local/lib/python3.10/dist-packages/altair/utils/core.py:384: FutureWarning: the convert_dtype parameter is deprecated and will be removed in a future version.  Do ``ser.astype(object).apply()`` instead if you want ``convert_dtype=False``.\n",
            "  col = df[col_name].apply(to_list_if_array, convert_dtype=False)\n"
          ]
        },
        {
          "output_type": "execute_result",
          "data": {
            "text/html": [
              "\n",
              "<div id=\"altair-viz-fe44c3c1772a4bc0acf0a8ea11dce346\"></div>\n",
              "<script type=\"text/javascript\">\n",
              "  var VEGA_DEBUG = (typeof VEGA_DEBUG == \"undefined\") ? {} : VEGA_DEBUG;\n",
              "  (function(spec, embedOpt){\n",
              "    let outputDiv = document.currentScript.previousElementSibling;\n",
              "    if (outputDiv.id !== \"altair-viz-fe44c3c1772a4bc0acf0a8ea11dce346\") {\n",
              "      outputDiv = document.getElementById(\"altair-viz-fe44c3c1772a4bc0acf0a8ea11dce346\");\n",
              "    }\n",
              "    const paths = {\n",
              "      \"vega\": \"https://cdn.jsdelivr.net/npm//vega@5?noext\",\n",
              "      \"vega-lib\": \"https://cdn.jsdelivr.net/npm//vega-lib?noext\",\n",
              "      \"vega-lite\": \"https://cdn.jsdelivr.net/npm//vega-lite@4.17.0?noext\",\n",
              "      \"vega-embed\": \"https://cdn.jsdelivr.net/npm//vega-embed@6?noext\",\n",
              "    };\n",
              "\n",
              "    function maybeLoadScript(lib, version) {\n",
              "      var key = `${lib.replace(\"-\", \"\")}_version`;\n",
              "      return (VEGA_DEBUG[key] == version) ?\n",
              "        Promise.resolve(paths[lib]) :\n",
              "        new Promise(function(resolve, reject) {\n",
              "          var s = document.createElement('script');\n",
              "          document.getElementsByTagName(\"head\")[0].appendChild(s);\n",
              "          s.async = true;\n",
              "          s.onload = () => {\n",
              "            VEGA_DEBUG[key] = version;\n",
              "            return resolve(paths[lib]);\n",
              "          };\n",
              "          s.onerror = () => reject(`Error loading script: ${paths[lib]}`);\n",
              "          s.src = paths[lib];\n",
              "        });\n",
              "    }\n",
              "\n",
              "    function showError(err) {\n",
              "      outputDiv.innerHTML = `<div class=\"error\" style=\"color:red;\">${err}</div>`;\n",
              "      throw err;\n",
              "    }\n",
              "\n",
              "    function displayChart(vegaEmbed) {\n",
              "      vegaEmbed(outputDiv, spec, embedOpt)\n",
              "        .catch(err => showError(`Javascript Error: ${err.message}<br>This usually means there's a typo in your chart specification. See the javascript console for the full traceback.`));\n",
              "    }\n",
              "\n",
              "    if(typeof define === \"function\" && define.amd) {\n",
              "      requirejs.config({paths});\n",
              "      require([\"vega-embed\"], displayChart, err => showError(`Error loading script: ${err.message}`));\n",
              "    } else {\n",
              "      maybeLoadScript(\"vega\", \"5\")\n",
              "        .then(() => maybeLoadScript(\"vega-lite\", \"4.17.0\"))\n",
              "        .then(() => maybeLoadScript(\"vega-embed\", \"6\"))\n",
              "        .catch(showError)\n",
              "        .then(() => displayChart(vegaEmbed));\n",
              "    }\n",
              "  })({\"config\": {\"view\": {\"continuousWidth\": 400, \"continuousHeight\": 300}}, \"layer\": [{\"data\": {\"name\": \"data-033fb3972784eb06f9e4ed0479073a00\"}, \"mark\": {\"type\": \"circle\", \"size\": 50}, \"encoding\": {\"color\": {\"field\": \"variable\", \"type\": \"nominal\"}, \"tooltip\": [{\"field\": \"variable\", \"type\": \"nominal\"}, {\"field\": \"value\", \"type\": \"nominal\"}, {\"field\": \"component 0\", \"type\": \"quantitative\"}, {\"field\": \"component 1\", \"type\": \"quantitative\"}], \"x\": {\"axis\": {\"title\": \"component 0 \\u2014 40.17%\"}, \"field\": \"component 0\", \"scale\": {\"zero\": false}, \"type\": \"quantitative\"}, \"y\": {\"axis\": {\"title\": \"component 1 \\u2014 21.11%\"}, \"field\": \"component 1\", \"scale\": {\"zero\": false}, \"type\": \"quantitative\"}}, \"selection\": {\"selector001\": {\"type\": \"interval\", \"bind\": \"scales\", \"encodings\": [\"x\", \"y\"]}}}, {\"data\": {\"name\": \"data-cd8b584318d2412113ea851fc2225314\"}, \"mark\": {\"type\": \"circle\", \"size\": 50}, \"encoding\": {\"color\": {\"field\": \"variable\", \"type\": \"nominal\"}, \"tooltip\": [{\"field\": \"variable\", \"type\": \"nominal\"}, {\"field\": \"value\", \"type\": \"nominal\"}, {\"field\": \"component 0\", \"type\": \"quantitative\"}, {\"field\": \"component 1\", \"type\": \"quantitative\"}], \"x\": {\"axis\": {\"title\": \"component 0 \\u2014 40.17%\"}, \"field\": \"component 0\", \"scale\": {\"zero\": false}, \"type\": \"quantitative\"}, \"y\": {\"axis\": {\"title\": \"component 1 \\u2014 21.11%\"}, \"field\": \"component 1\", \"scale\": {\"zero\": false}, \"type\": \"quantitative\"}}}], \"$schema\": \"https://vega.github.io/schema/vega-lite/v4.17.0.json\", \"datasets\": {\"data-033fb3972784eb06f9e4ed0479073a00\": [{\"component 0\": 0.705386799624833, \"component 1\": 6.758879118797231e-15, \"variable\": \"row\", \"value\": \"0\", \"label\": 0}, {\"component 0\": -0.38658629949599005, \"component 1\": 6.870403520271687e-15, \"variable\": \"row\", \"value\": \"1\", \"label\": 1}, {\"component 0\": -0.3865862994959903, \"component 1\": 5.355364026780052e-15, \"variable\": \"row\", \"value\": \"2\", \"label\": 2}, {\"component 0\": -0.8520140574664051, \"component 1\": 5.86457287617149e-15, \"variable\": \"row\", \"value\": \"3\", \"label\": 3}, {\"component 0\": 0.7835387510478182, \"component 1\": -0.6333333333333322, \"variable\": \"row\", \"value\": \"4\", \"label\": 4}, {\"component 0\": 0.7835387510478182, \"component 1\": -0.6333333333333322, \"variable\": \"row\", \"value\": \"5\", \"label\": 5}, {\"component 0\": -0.30843434807300485, \"component 1\": -0.633333333333332, \"variable\": \"row\", \"value\": \"6\", \"label\": 6}, {\"component 0\": -0.30843434807300507, \"component 1\": -0.6333333333333335, \"variable\": \"row\", \"value\": \"7\", \"label\": 7}, {\"component 0\": -0.7738621060434199, \"component 1\": -0.633333333333333, \"variable\": \"row\", \"value\": \"8\", \"label\": 8}, {\"component 0\": 0.7835387510478188, \"component 1\": 0.6333333333333341, \"variable\": \"row\", \"value\": \"9\", \"label\": 9}, {\"component 0\": 0.7835387510478188, \"component 1\": 0.6333333333333341, \"variable\": \"row\", \"value\": \"10\", \"label\": 10}, {\"component 0\": -0.3084343480730043, \"component 1\": 0.6333333333333343, \"variable\": \"row\", \"value\": \"11\", \"label\": 11}, {\"component 0\": -0.3084343480730045, \"component 1\": 0.6333333333333327, \"variable\": \"row\", \"value\": \"12\", \"label\": 12}, {\"component 0\": -0.7738621060434193, \"component 1\": 0.6333333333333333, \"variable\": \"row\", \"value\": \"13\", \"label\": 13}, {\"component 0\": 0.861690702470804, \"component 1\": -4.907214375633947e-15, \"variable\": \"row\", \"value\": \"14\", \"label\": 14}, {\"component 0\": 0.861690702470804, \"component 1\": -4.907214375633947e-15, \"variable\": \"row\", \"value\": \"15\", \"label\": 15}, {\"component 0\": -0.23028239665001907, \"component 1\": -4.795689974159491e-15, \"variable\": \"row\", \"value\": \"16\", \"label\": 16}, {\"component 0\": -0.23028239665001932, \"component 1\": -6.310729467651126e-15, \"variable\": \"row\", \"value\": \"17\", \"label\": 17}, {\"component 0\": -0.6957101546204341, \"component 1\": -5.801520618259688e-15, \"variable\": \"row\", \"value\": \"18\", \"label\": 18}], \"data-cd8b584318d2412113ea851fc2225314\": [{\"component 0\": 0.1173076067719158, \"component 1\": 0.6892024376045057, \"variable\": \"column\", \"value\": \"Color_PURPLE\", \"label\": \"Color_PURPLE\"}, {\"component 0\": -0.13034178530212834, \"component 1\": -0.7657804862272284, \"variable\": \"column\", \"value\": \"Color_YELLOW\", \"label\": \"Color_YELLOW\"}, {\"component 0\": 0.1173076067719147, \"component 1\": -0.6892024376045163, \"variable\": \"column\", \"value\": \"Size_LARGE\", \"label\": \"Size_LARGE\"}, {\"component 0\": -0.13034178530212712, \"component 1\": 0.7657804862272404, \"variable\": \"column\", \"value\": \"Size_SMALL\", \"label\": \"Size_SMALL\"}, {\"component 0\": -0.8538641988881545, \"component 1\": -1.3433226699596665e-15, \"variable\": \"column\", \"value\": \"Action_DIP\", \"label\": \"Action_DIP\"}, {\"component 0\": 0.6209921446459307, \"component 1\": 1.0697069291041088e-15, \"variable\": \"column\", \"value\": \"Action_STRETCH\", \"label\": \"Action_STRETCH\"}, {\"component 0\": 0.6209921446459306, \"component 1\": -2.330919178822066e-16, \"variable\": \"column\", \"value\": \"Age_ADULT\", \"label\": \"Age_ADULT\"}, {\"component 0\": -0.8538641988881543, \"component 1\": 4.93937046121607e-16, \"variable\": \"column\", \"value\": \"Age_CHILD\", \"label\": \"Age_CHILD\"}, {\"component 0\": -0.7314664035372919, \"component 1\": -2.947109216109124e-16, \"variable\": \"column\", \"value\": \"Inflated_F\", \"label\": \"Inflated_F\"}, {\"component 0\": 1.2539424060639297, \"component 1\": 5.84401682178327e-16, \"variable\": \"column\", \"value\": \"Inflated_T\", \"label\": \"Inflated_T\"}]}}, {\"mode\": \"vega-lite\"});\n",
              "</script>"
            ],
            "text/plain": [
              "alt.LayerChart(...)"
            ]
          },
          "metadata": {},
          "execution_count": 8
        }
      ]
    }
  ]
}